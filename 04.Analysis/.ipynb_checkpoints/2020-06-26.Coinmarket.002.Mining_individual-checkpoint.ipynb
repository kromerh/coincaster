{
 "cells": [
  {
   "cell_type": "markdown",
   "metadata": {},
   "source": [
    "# Coinmarketcap - mining\n",
    "\n",
    "The goal of this little piece in the project is to get the historical price for each of the coins that we found in the listing on coinmarketcap.\n",
    "\n",
    "First, we need to have a chromedriver installed, because we will use automated testing software to do the mining. Make sure that you have the corresponding driver installed according to your chrome installation. It will complain if that is not the case, fix is easy and a quick Google search will do the trick!\n",
    "\n"
   ]
  },
  {
   "cell_type": "markdown",
   "metadata": {},
   "source": [
    "## mine_cmp.py\n",
    "\n",
    "All of the magic is done in the command line script mine_cmp.py. \n",
    "\n",
    "`mine_cmp.py start end crypto_rank_file path_chromedriver output_folder`\n",
    "\n",
    "We have to specify the following:\n",
    "\n",
    "<b>INPUT:</b>\n",
    "\n",
    "- `start` int: Start rank to begin the mining with\n",
    "- `end` int: End rank to stop the mining at\n",
    "- `crypto_rank_file` str: Full file path to the crypto rank file (cmp overview table)\n",
    "- `path_chromedriver` str: Full file path to the chromedriver\n",
    "- `output_folder` str: Path to folder where the data is stored.\n",
    "\n",
    "<b>OUPUT:</b>\n",
    "\n",
    "- Only print statements, files are in the output_folder named {coin_name}__{coin_symbol}.csv\n",
    "\n",
    "\n",
    "The program can be executed repeatedly and will check if in the specified output folder that particular coin was already mined. If the file exists, it will not do any mining. So be careful if you spread it out over a few days, it can be that the coins will not have the same most recent timestamp."
   ]
  },
  {
   "cell_type": "markdown",
   "metadata": {},
   "source": [
    "# Conclusion\n",
    "\n",
    "Not much text here, but I hope this little command line tool is useful nontheless."
   ]
  }
 ],
 "metadata": {
  "kernelspec": {
   "display_name": "Python 3",
   "language": "python",
   "name": "python3"
  },
  "language_info": {
   "codemirror_mode": {
    "name": "ipython",
    "version": 3
   },
   "file_extension": ".py",
   "mimetype": "text/x-python",
   "name": "python",
   "nbconvert_exporter": "python",
   "pygments_lexer": "ipython3",
   "version": "3.7.7"
  }
 },
 "nbformat": 4,
 "nbformat_minor": 4
}

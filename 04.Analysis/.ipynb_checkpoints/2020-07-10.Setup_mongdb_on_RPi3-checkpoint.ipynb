{
 "cells": [
  {
   "cell_type": "markdown",
   "metadata": {},
   "source": [
    "# Coincaster - Get mongodb running on a Raspberry Pi 3\n",
    "\n",
    "To store the data for the coincaster project, we will use a raspberry pi 3. In this notebook, all the steps to get the mongo database running on the raspberry pi 3 (RPi3) are covered. We will also allow remote access to the database and connect to it using pymongo.\n",
    "\n"
   ]
  },
  {
   "cell_type": "markdown",
   "metadata": {},
   "source": [
    "# Table of contents\n",
    "\n",
    "### [1. Set up Ubuntu Server on Raspberry Pi 3](#1)\n",
    "### [2. Install and set up mongodb](#2)\n",
    "### [3. Final steps on the Raspberry Pi](#3)"
   ]
  },
  {
   "cell_type": "markdown",
   "metadata": {},
   "source": [
    "<a id='1'></a>\n",
    "## 1. Set up Ubuntu Server on Raspberry Pi 3\n",
    "As operating system, we will use Ubuntu Server, because for the NoSQL database to be used, Rasbian only supports version 2.4, which is inferior to the mongodb 3.x version that is available on Ubuntu Server.\n",
    "\n",
    "\n",
    "You can download it here and follow the instructions to get the image on the microSD card (depends on your operating system):\n",
    "\n",
    "https://ubuntu.com/download/raspberry-pi\n",
    "\n",
    "Once Ubuntu server is installed on the RPi3, we connect to it using the username `ubuntu` and password `ubuntu`. It needs to be changed on the first login. After updating (`apt install update` and `apt install upgrade`), remote access via `ssh` should be enabled, this is achieved with the commands:\n",
    "\n",
    "```\n",
    "sudo apt install openssh-server\n",
    "sudo systemctl status ssh\n",
    "sudo systemctl start ssh\n",
    "```\n",
    "\n",
    "The server can then be accessed by:\n",
    "\n",
    "```\n",
    "ssh username@ip_address\n",
    "```\n",
    "\n",
    "The IP address is found using the command `ip a` when logged in to the RPi3, in case it is not known.\n",
    "\n",
    "It is also recommended to use an ssh-key to log in which makes logging in easier. Information can be found here: https://www.digitalocean.com/community/tutorials/how-to-set-up-ssh-keys-on-ubuntu-1604.\n"
   ]
  },
  {
   "cell_type": "markdown",
   "metadata": {},
   "source": [
    "<a id='2'></a>\n",
    "## 2. Install and set up mongodb\n",
    "\n",
    "### Install mongodb\n",
    "To install `mongodb`, follow the steps laid out in the official mongoDB documentation:\n",
    "\n",
    "https://docs.mongodb.com/manual/tutorial/install-mongodb-on-debian/\n",
    "\n",
    "It may be that you need to use the commands for Debian 9 \"Stretch\".\n",
    "\n",
    "### Set up mongodb\n",
    "\n",
    "After mongodb is installed, we have to set it up for remote access. To do that, change the configuration file (requires elevated rights):\n",
    "\n",
    "```\n",
    "sudo nano /etc/mongod.conf\n",
    "```\n",
    "\n",
    "There, you need to change the following:\n",
    "\n",
    "- `bind_ip = 0.0.0.0` to allow remote, non local connections\n",
    "- `auth = true` to turn on security (requires password to log in)\n",
    "\n",
    "Next, we want to add a user to be able to log in to the mongo db remotely:\n",
    "We chose to add this user as admin\n",
    "```\n",
    "use admin;\n",
    "```\n",
    "```\n",
    "db.createUser({\n",
    "      user: \"USERNAME\",\n",
    "      pwd: \"PASSWORD\",\n",
    "      roles: [\n",
    "                { role: \"userAdminAnyDatabase\", db: \"admin\" },\n",
    "                { role: \"readWriteAnyDatabase\", db: \"admin\" },\n",
    "                { role: \"dbAdminAnyDatabase\",   db: \"admin\" }\n",
    "             ]\n",
    "  });\n",
    "```\n",
    "\n",
    "Now that the user is admin, we have to add it to the database. For this project, the database will be named `coincaster`.\n",
    "\n",
    "```\n",
    "use coincaster;\n",
    "```\n",
    "```\n",
    "db.createUser({\n",
    "      user: \"USERNAME\",\n",
    "      pwd: \"PASSWORD\",\n",
    "      roles: [\n",
    "                { role: \"userAdmin\", db: \"coincaster\" },\n",
    "                { role: \"dbAdmin\",   db: \"coincaster\" },\n",
    "                { role: \"readWrite\", db: \"coincaster\" }\n",
    "             ]\n",
    "  });\n",
    "```\n",
    "\n",
    "That's it, remote access should now be possible. To test, you can simply connect by using `pymongo`. The script below will connect to the database and list the collections. Note that you need to provide the correct credentials."
   ]
  },
  {
   "cell_type": "code",
   "execution_count": 12,
   "metadata": {},
   "outputs": [
    {
     "data": {
      "text/plain": [
       "['ThoreNext__THX.csv',\n",
       " 'Metadium__META.csv',\n",
       " 'SynchroBitcoin__SNB.csv',\n",
       " 'Telcoin__TEL.csv',\n",
       " 'Verasity__VRA.csv']"
      ]
     },
     "execution_count": 12,
     "metadata": {},
     "output_type": "execute_result"
    }
   ],
   "source": [
    "import pymongo\n",
    "import pandas as pd\n",
    "\n",
    "cred = '../01.Original_data/credentials/mongodb.pw'\n",
    "data_cred = pd.read_csv(cred, index_col=0, header=None)\n",
    "USER = data_cred.loc['USER'].values[0]\n",
    "DB = data_cred.loc['DB'].values[0]\n",
    "PW = data_cred.loc['PW'].values[0]\n",
    "HOST = data_cred.loc['HOST'].values[0]\n",
    "\n",
    "client = pymongo.MongoClient(f\"mongodb://{USER}:{PW}@{HOST}/{DB}\") # defaults to port 27017\n",
    "\n",
    "db = client.coincaster\n",
    "\n",
    "# list first 5 collections\n",
    "db.list_collection_names()[:5]"
   ]
  },
  {
   "cell_type": "markdown",
   "metadata": {},
   "source": [
    "<a id='3'></a>\n",
    "## 3. Final steps on the Raspberry Pi\n",
    "\n",
    "Lastly, we will also install some python packages on the RPi3 that we will use later for the data mining. Note that especially pandas will take a long time and it is recommended to install it while being directly connected to the RPi3 and not via SSH. For me, the system froze due to memory limits (installation still completed after about 2-3 hours).\n",
    "\n",
    "```\n",
    "sudo apt-get install python3-wheel\n",
    "sudo apt-get install python3-numpy\n",
    "sudo apt-get install python3-pandas\n",
    "python3 -m pip install beautifulsoup4\n",
    "python3 -m pip install requests\n",
    "python3 -m pip install pymongo\n",
    "```\n",
    "\n",
    "\n",
    "\n",
    "That's it, the system is now good to go!"
   ]
  },
  {
   "cell_type": "code",
   "execution_count": null,
   "metadata": {},
   "outputs": [],
   "source": []
  }
 ],
 "metadata": {
  "kernelspec": {
   "display_name": "Python 3",
   "language": "python",
   "name": "python3"
  },
  "language_info": {
   "codemirror_mode": {
    "name": "ipython",
    "version": 3
   },
   "file_extension": ".py",
   "mimetype": "text/x-python",
   "name": "python",
   "nbconvert_exporter": "python",
   "pygments_lexer": "ipython3",
   "version": "3.7.7"
  }
 },
 "nbformat": 4,
 "nbformat_minor": 4
}

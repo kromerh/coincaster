{
 "cells": [
  {
   "cell_type": "markdown",
   "id": "secret-truth",
   "metadata": {},
   "source": [
    "# ARIMA"
   ]
  },
  {
   "cell_type": "markdown",
   "id": "recreational-agriculture",
   "metadata": {},
   "source": [
    "- AR: Autoregression\n",
    "\n",
    "    - Indicates that evolving variable of interest is regressed on its own prior value.\n",
    "    - It does build the regression model off of previous $y$ values:\n",
    "    - $$y_t = c + \\phi_1 y_{t-1}+ \\phi_2 y_{t-2} + ... +  \\phi_p y_{t-p} + \\epsilon_t$$\n",
    "\n",
    "        where \n",
    "\n",
    "        - $p$: order p\n",
    "        - $\\phi$: lag coefficient\n",
    "        - $\\epsilon_t$: white noise\n",
    "        - $c$: constant\n",
    "        \n",
    "    \n",
    "- I: Integrated\n",
    "    - Indicates that data values have been replaced with the difference between their values and the previous values (differencing)\n",
    "    - Just means how many times we have to difference the data to get it stationary so the AR and MA components would work together\n",
    "\n",
    "\n",
    "- MA: Moving Average\n",
    "    - Indicates that regression error is linear combination of errors terms, whose values occured contemporaneously and at various times into past. So it is a model that used the dependency between an observation and a residual error from a moving average model applied to lagged observations.\n",
    "    - See MA with pandas, it smoothed out the values\n",
    "    - We set essentially up another regression model that focuses on the residual term between a moving average and the real values<br><br>\n",
    "        - $$\\epsilon_t + \\theta_1 \\epsilon_{t-1} + ... + \\theta_q \\epsilon_{t-q}$$\n",
    "\n",
    "\n",
    "Non seasonal ARIMA models are denoted ARIMA(p,d,q).\n",
    "- p number of lags\n",
    "- d degree of differencing\n",
    "- q order of moving average model\n",
    "    \n",
    "    \n",
    "How does ARIMA model look like? Let's see the ARMA(p,q) model first:\n",
    "\n",
    "$$X_t - \\alpha_1 X_{t-1}-...-\\alpha_p X_{t-p}=\\epsilon_t + \\theta_1 \\epsilon_{t-1} + ... + \\theta_q \\epsilon_{t-q}$$\n",
    "\n",
    "Solve this for forecasted time component.\n",
    "\n",
    "\n",
    "where:\n",
    "\n",
    "- $X_t$ is the time series data\n",
    "- $\\alpha$ are the parameters of the AR model\n",
    "- $\\epsilon_t$ are the error terms\n",
    "- $\\theta$ are the parameters of the MA model\n",
    "\n",
    "This formula can be simplified and introducing the differencing term d:\n",
    "\n",
    "$$\\left(1-\\sum^p_{i=1} \\phi_i L^i \\right) (1-L)^d X_t = \\left(1+\\sum^q_{i=1} \\theta_i L^i \\right) \\epsilon_t$$\n",
    "\n",
    "L is considered as the lag operator.\n",
    "\n",
    "\n",
    "We have to choose p, q and d. Statsmodels can help by chosing them for us!"
   ]
  },
  {
   "cell_type": "markdown",
   "id": "dimensional-brisbane",
   "metadata": {},
   "source": [
    "## Choosing ARIMA Orders\n"
   ]
  },
  {
   "cell_type": "markdown",
   "id": "inappropriate-tobago",
   "metadata": {},
   "source": [
    "- Depending on the dataset, it is common to require AR or MA only, not both\n",
    "- If autocorrelation plot shows positive autocorrelation at the first lag (lag-1), then suggest to use AR terms in relation to the lag\n",
    "- "
   ]
  },
  {
   "cell_type": "code",
   "execution_count": null,
   "id": "theoretical-variable",
   "metadata": {},
   "outputs": [],
   "source": []
  },
  {
   "cell_type": "code",
   "execution_count": null,
   "id": "outside-bonus",
   "metadata": {},
   "outputs": [],
   "source": []
  },
  {
   "cell_type": "code",
   "execution_count": null,
   "id": "organizational-crime",
   "metadata": {},
   "outputs": [],
   "source": []
  },
  {
   "cell_type": "code",
   "execution_count": null,
   "id": "interracial-kennedy",
   "metadata": {},
   "outputs": [],
   "source": []
  },
  {
   "cell_type": "code",
   "execution_count": null,
   "id": "breathing-redhead",
   "metadata": {},
   "outputs": [],
   "source": []
  },
  {
   "cell_type": "code",
   "execution_count": null,
   "id": "beautiful-executive",
   "metadata": {},
   "outputs": [],
   "source": []
  },
  {
   "cell_type": "code",
   "execution_count": null,
   "id": "center-apparatus",
   "metadata": {},
   "outputs": [],
   "source": []
  },
  {
   "cell_type": "code",
   "execution_count": null,
   "id": "mysterious-walter",
   "metadata": {},
   "outputs": [],
   "source": []
  }
 ],
 "metadata": {
  "kernelspec": {
   "display_name": "3.9.0",
   "language": "python",
   "name": "3.9.0"
  },
  "language_info": {
   "codemirror_mode": {
    "name": "ipython",
    "version": 3
   },
   "file_extension": ".py",
   "mimetype": "text/x-python",
   "name": "python",
   "nbconvert_exporter": "python",
   "pygments_lexer": "ipython3",
   "version": "3.9.0"
  },
  "toc": {
   "base_numbering": 1,
   "nav_menu": {},
   "number_sections": true,
   "sideBar": true,
   "skip_h1_title": false,
   "title_cell": "Table of Contents",
   "title_sidebar": "Contents",
   "toc_cell": false,
   "toc_position": {},
   "toc_section_display": true,
   "toc_window_display": false
  },
  "varInspector": {
   "cols": {
    "lenName": 16,
    "lenType": 16,
    "lenVar": 40
   },
   "kernels_config": {
    "python": {
     "delete_cmd_postfix": "",
     "delete_cmd_prefix": "del ",
     "library": "var_list.py",
     "varRefreshCmd": "print(var_dic_list())"
    },
    "r": {
     "delete_cmd_postfix": ") ",
     "delete_cmd_prefix": "rm(",
     "library": "var_list.r",
     "varRefreshCmd": "cat(var_dic_list()) "
    }
   },
   "types_to_exclude": [
    "module",
    "function",
    "builtin_function_or_method",
    "instance",
    "_Feature"
   ],
   "window_display": false
  }
 },
 "nbformat": 4,
 "nbformat_minor": 5
}

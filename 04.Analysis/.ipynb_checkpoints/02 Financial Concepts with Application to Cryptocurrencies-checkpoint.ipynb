{
 "cells": [
  {
   "cell_type": "markdown",
   "id": "plastic-pollution",
   "metadata": {},
   "source": [
    "# Introduction\n",
    "\n",
    "In this notebook we will explore important financial concepts which include:\n",
    "\n",
    "- Linearity in Finance\n",
    "- Nonlinearity in Finance\n",
    "- Numerical Methods for Pricing Options\n",
    "- Modeling Interest Rates and Derivatives\n",
    "- Statistical Analysis of Time Series Data\n",
    "\n",
    "Note that these are taken from the book from James Ma Weiming “Mastering Python for Finance - Second Edition.” and I might chose not to cover all the concept that are laid out in said book without explicit clarification."
   ]
  },
  {
   "cell_type": "markdown",
   "id": "protective-cardiff",
   "metadata": {},
   "source": [
    "## Linearity\n",
    "\n",
    "### The Capital Asset Pricing Model and the Security Market Line\n",
    "\n",
    "The Capital Asset Pricing Model (CAPM) describes the relationship between risk and rates of return of a security as:\n",
    "\n",
    "$$ R_i = R_f + \\beta_i \\left( E\\left[ R_{mkt}\\right] - R_f\\right) $$\n",
    "\n",
    "where\n",
    "\n",
    "- $R_i$ is the return of security $i$\n",
    "- $\\beta_i$ is a measure for the systematic risk of a security $i$. This describes the sensitivity of stock returns with respect to movements of the market. If $\\beta_i$ is zero, then the security generates no excess returns regardless of the direction the market moves in. It can only grow at a risk-free rate. A stock with a beta of 1 indicates that the stock moves perfectly with the market. See the Udemy course Python for Finance: Investment Fundamentals & Data Analytics (https://www.udemy.com/course/python-for-finance-investment-fundamentals-data-analytics/) for a thorough and colorful explanation of $\\beta$.\n",
    "- $R_f$ is the risk-free rate, e.g., a government bond\n",
    "- $\\left( E\\left[ R_{mkt}\\right] - R_f\\right)$ is the market risk premium, which is the return expected from the market above the risk-free rate. \n",
    "\n",
    "The result should give an investor the required return or discount rate they can use to find the value of an asset. The goal of the CAPM formula is to evaluate whether a stock is fairly valued when its risk and the time value of money are compared to its expected return.\n",
    "\n",
    "$\\beta$ is mathematically derived by dividing the covariance of returns between the stock and the market by the variance of the market returns.\n",
    "\n",
    "Using the CAPM to build a portfolio is supposed to help an investor manage their risk. If an investor were able to use the CAPM to perfectly optimize a portfolio’s return relative to risk, it would exist on a curve called the efficient frontier. An investor who wishes to receive a particular return would own one such combination of an optimal portfolio that provides the least risk possible. Combinations of optimal portfolios lie along a line called the efficient frontier. An illustration of this line can be found here: https://www.investopedia.com/terms/c/capm.asp#:~:text=The%20Capital%20Asset%20Pricing%20Model%20(CAPM)%20describes%20the%20relationship%20between,assets%20and%20cost%20of%20capital.\n"
   ]
  },
  {
   "cell_type": "markdown",
   "id": "cleared-saint",
   "metadata": {},
   "source": [
    "#### Finding the $\\beta$ of a security\n",
    "\n",
    "We can find the $\\beta$ of a security by regressing the company's stock returns, $R_i$, against the market's returns, $R_M$, along with an intercept, $\\alpha$:\n",
    "$$R_i = \\alpha + \\beta \\cdot R_M$$\n",
    "\n",
    "\n",
    "A beta coefficient can measure the volatility of an individual stock compared to the systematic risk of the entire market. In statistical terms, beta represents the slope of the line through a regression of data points. In finance, each of these data points represents an individual stock's returns against those of the market as a whole.\n",
    "\n",
    "Beta effectively describes the activity of a security's returns as it responds to swings in the market. A security's beta is calculated by dividing the product of the covariance of the security's returns and the market's returns by the variance of the market's returns over a specified period.\n",
    "\n",
    "$$\\beta=\\frac{Cov\\left( R_i, R_m\\right)}{Var\\left(R_m\\right)}$$"
   ]
  },
  {
   "cell_type": "code",
   "execution_count": 18,
   "id": "funded-employee",
   "metadata": {
    "ExecuteTime": {
     "end_time": "2021-04-08T18:17:11.204231Z",
     "start_time": "2021-04-08T18:17:10.744646Z"
    }
   },
   "outputs": [
    {
     "data": {
      "text/plain": [
       "(0.5077431878770808, -0.008481900352462384)"
      ]
     },
     "execution_count": 18,
     "metadata": {},
     "output_type": "execute_result"
    }
   ],
   "source": [
    "from scipy import stats\n",
    "\n",
    "stock_returns = [0.065, 0.0265, -0.0593, -0.001, 0.0346]\n",
    "mkt_returns = [0.055, -0.09, -0.041, 0.045, 0.022]\n",
    "beta, alpha, r_value, p_value, std_err = stats.linregress(stock_returns, mkt_returns)\n",
    "\n",
    "beta, alpha"
   ]
  }
 ],
 "metadata": {
  "kernelspec": {
   "display_name": "3.9.0",
   "language": "python",
   "name": "3.9.0"
  },
  "language_info": {
   "codemirror_mode": {
    "name": "ipython",
    "version": 3
   },
   "file_extension": ".py",
   "mimetype": "text/x-python",
   "name": "python",
   "nbconvert_exporter": "python",
   "pygments_lexer": "ipython3",
   "version": "3.9.0"
  },
  "toc": {
   "base_numbering": 1,
   "nav_menu": {},
   "number_sections": true,
   "sideBar": true,
   "skip_h1_title": false,
   "title_cell": "Table of Contents",
   "title_sidebar": "Contents",
   "toc_cell": false,
   "toc_position": {},
   "toc_section_display": true,
   "toc_window_display": false
  },
  "varInspector": {
   "cols": {
    "lenName": 16,
    "lenType": 16,
    "lenVar": 40
   },
   "kernels_config": {
    "python": {
     "delete_cmd_postfix": "",
     "delete_cmd_prefix": "del ",
     "library": "var_list.py",
     "varRefreshCmd": "print(var_dic_list())"
    },
    "r": {
     "delete_cmd_postfix": ") ",
     "delete_cmd_prefix": "rm(",
     "library": "var_list.r",
     "varRefreshCmd": "cat(var_dic_list()) "
    }
   },
   "types_to_exclude": [
    "module",
    "function",
    "builtin_function_or_method",
    "instance",
    "_Feature"
   ],
   "window_display": false
  }
 },
 "nbformat": 4,
 "nbformat_minor": 5
}

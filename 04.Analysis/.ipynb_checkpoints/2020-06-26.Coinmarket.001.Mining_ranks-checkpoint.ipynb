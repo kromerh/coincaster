{
 "cells": [
  {
   "cell_type": "markdown",
   "metadata": {},
   "source": [
    "# Coinmarketcap - mining\n",
    "\n",
    "The goal of this little piece in the project is to get the information on the different coins listed on coinmarketcap. We are specifically after the rank, name, link to the coin data, and some information on the price. The latter is not required, but well if we start mining, why not take all of it?\n",
    "\n",
    "First, we need to have a chromedriver installed, because we will use automated testing software to do the mining. Make sure that you have the corresponding driver installed according to your chrome installation. It will complain if that is not the case, fix is easy and a quick Google search will do the trick!"
   ]
  },
  {
   "cell_type": "markdown",
   "metadata": {},
   "source": [
    "## Import libraries\n"
   ]
  },
  {
   "cell_type": "code",
   "execution_count": 1,
   "metadata": {},
   "outputs": [],
   "source": [
    "import pandas as pd # Pandas for data manipulation\n",
    "import numpy as np\n",
    "import re          #for regex\n",
    "import datetime  \n",
    "import time\n",
    "from selenium import webdriver\n",
    "from selenium.common.exceptions import NoSuchElementException"
   ]
  },
  {
   "cell_type": "markdown",
   "metadata": {},
   "source": [
    "## Mining settings\n",
    "\n",
    "Since we use selenium, we need to specify the address of the driver"
   ]
  },
  {
   "cell_type": "code",
   "execution_count": 4,
   "metadata": {},
   "outputs": [],
   "source": [
    "PATH_CHROMEDRIVER = '../chromedriver'\n",
    "\n",
    "# which website we want to do the mining on\n",
    "WEBSITE = 'https://www.coinmarketcap.com/all/views/all/'\n",
    "\n",
    "# where to store the mined csv file\n",
    "OUTPUT_FOLDER = '../01.Original_data/cmp_rank/'"
   ]
  },
  {
   "cell_type": "markdown",
   "metadata": {},
   "source": [
    "## Mining\n",
    "\n",
    "We have already everything to do the actual mining."
   ]
  },
  {
   "cell_type": "code",
   "execution_count": null,
   "metadata": {},
   "outputs": [],
   "source": [
    "# set download path\n",
    "chromeOptions = webdriver.ChromeOptions()\n",
    "\n",
    "# initialize driver\n",
    "driver = webdriver.Chrome(PATH_CHROMEDRIVER, options=chromeOptions)\n",
    "\n",
    "# Open website\n",
    "driver.get(WEBSITE)\n",
    "\n",
    "# Sleep 5 seconds to open website\n",
    "time.sleep(10)\n",
    "\n",
    "# Click load more until there is no load more\n",
    "load_more = True\n",
    "while load_more:\n",
    "    try:\n",
    "        elems = driver.find_element_by_xpath('//button[text()=\"Load More\"]')\n",
    "        driver.execute_script(\"arguments[0].scrollIntoView();\", elems)\n",
    "        elems.click()\n",
    "        time.sleep(10)\n",
    "    except NoSuchElementException:\n",
    "        print(\"No load more button any more.\")\n",
    "        load_more = False\n",
    "    time.sleep(10)\n",
    "    \n",
    "    \n",
    "# find all the information\n",
    "tables = driver.find_elements_by_tag_name('table')\n",
    "cointable = tables[2].find_elements_by_tag_name('td')\n",
    "\n",
    "time_start = datetime.datetime.now()\n",
    "l = []\n",
    "sub_l = []\n",
    "cnt = 0\n",
    "for item in cointable:\n",
    "    td = item.text\n",
    "    if len(td) > 0:\n",
    "        sub_l.append(td)\n",
    "        els = cointable[cnt].find_elements_by_tag_name('a')\n",
    "        for el in els:\n",
    "            href = el.get_attribute(\"href\")\n",
    "            if href is not None:\n",
    "                if 'markets' not in href:\n",
    "                    sub_l.append(href)\n",
    "    else:\n",
    "        l.append(sub_l)\n",
    "        sub_l = []\n",
    "    if (cnt % 1000) == 0:\n",
    "        d_time = (datetime.datetime.now() - time_start).seconds\n",
    "        print(f\"Done {cnt} out of {len(cointable)}. Duration {d_time} seconds.\")\n",
    "    cnt += 1\n",
    "    \n",
    "col = ['Rank','Name','Link','Symbol','Market_Cap','Price','Circulating_Supply','Volume(24h)','%1h','%24h','%7d']\n",
    "df_allcrypto = pd.DataFrame.from_records(l, columns=col)\n",
    "\n",
    "df_allcrypto.to_csv(f'{OUTPUT_FOLDER}/all_crypto.csv')\n",
    "\n",
    "driver.quit()\n",
    "\n",
    "print(\"Chromedriver closed.\")"
   ]
  },
  {
   "cell_type": "markdown",
   "metadata": {},
   "source": [
    "# Conclusion\n",
    "\n",
    "That's it! We now have all the rank information in our output folder stored in all_crypto.csv. Note that the code can be easily adjusted to not get the info from all the 2700 coins but only the top few hundred or so. This greatly speeds up the process."
   ]
  },
  {
   "cell_type": "code",
   "execution_count": null,
   "metadata": {},
   "outputs": [],
   "source": []
  }
 ],
 "metadata": {
  "kernelspec": {
   "display_name": "Python 3",
   "language": "python",
   "name": "python3"
  },
  "language_info": {
   "codemirror_mode": {
    "name": "ipython",
    "version": 3
   },
   "file_extension": ".py",
   "mimetype": "text/x-python",
   "name": "python",
   "nbconvert_exporter": "python",
   "pygments_lexer": "ipython3",
   "version": "3.7.7"
  }
 },
 "nbformat": 4,
 "nbformat_minor": 4
}

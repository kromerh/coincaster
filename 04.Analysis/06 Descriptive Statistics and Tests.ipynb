{
 "cells": [
  {
   "cell_type": "markdown",
   "id": "dried-rocket",
   "metadata": {},
   "source": [
    "# Descriptive Statistics and Tests - Introduction\n"
   ]
  },
  {
   "cell_type": "markdown",
   "id": "decent-commissioner",
   "metadata": {},
   "source": [
    "## Test for Stationarity: Augmented Dickey-Fuller Test\n",
    "\n",
    "Performs a test in the form of null hypothesis and returns a p value.\n",
    "\n",
    "- Null hypothesis: $\\phi=1$\n",
    "\n",
    "- If p value below set alpha (0.05), then reject the null hypothesis, i.e., the time series is considered stationary.\n",
    "\n",
    "- If p value is high, then we fail to reject and time series can be considered non-stationary"
   ]
  },
  {
   "cell_type": "markdown",
   "id": "heated-expression",
   "metadata": {},
   "source": [
    "## Granger Causality Test\n",
    "\n",
    "Also a hypothesis test. Determines if one time series is useful in forecasting another.\n",
    "\n",
    "Correlation between time series is easy to measure (one goes up, other goes up). One time series changes causes another time series to change in the future is a completely different beast. Granger Causality can help here. However, even if there is strong causality reported, there could still be a third party factor that has causality on both, so it is in reality some outside factor and not the time series that affects the other time series! What can help here is subject matter expertise."
   ]
  },
  {
   "cell_type": "markdown",
   "id": "liberal-spray",
   "metadata": {},
   "source": [
    "## AIC Akaike Information Criterion\n",
    "\n",
    "AIC evaluates a collection of models and estimates the quality of each model relative to the others. Penalties are provided for the number of parameters used in an effort to thwart overfitting.\n",
    "\n",
    "Rather have a simpler model that performs slightly less over a more complex model that is only miniscule better than the simpler model."
   ]
  },
  {
   "cell_type": "markdown",
   "id": "connected-merchant",
   "metadata": {},
   "source": [
    "## BIC Bayesian Information Criterion\n",
    "\n",
    "Similar to AIC but uses Bayesian mathematics."
   ]
  },
  {
   "cell_type": "code",
   "execution_count": null,
   "id": "separate-while",
   "metadata": {},
   "outputs": [],
   "source": []
  }
 ],
 "metadata": {
  "kernelspec": {
   "display_name": "3.9.0",
   "language": "python",
   "name": "3.9.0"
  },
  "language_info": {
   "codemirror_mode": {
    "name": "ipython",
    "version": 3
   },
   "file_extension": ".py",
   "mimetype": "text/x-python",
   "name": "python",
   "nbconvert_exporter": "python",
   "pygments_lexer": "ipython3",
   "version": "3.9.0"
  },
  "toc": {
   "base_numbering": 1,
   "nav_menu": {},
   "number_sections": true,
   "sideBar": true,
   "skip_h1_title": false,
   "title_cell": "Table of Contents",
   "title_sidebar": "Contents",
   "toc_cell": false,
   "toc_position": {},
   "toc_section_display": true,
   "toc_window_display": false
  },
  "varInspector": {
   "cols": {
    "lenName": 16,
    "lenType": 16,
    "lenVar": 40
   },
   "kernels_config": {
    "python": {
     "delete_cmd_postfix": "",
     "delete_cmd_prefix": "del ",
     "library": "var_list.py",
     "varRefreshCmd": "print(var_dic_list())"
    },
    "r": {
     "delete_cmd_postfix": ") ",
     "delete_cmd_prefix": "rm(",
     "library": "var_list.r",
     "varRefreshCmd": "cat(var_dic_list()) "
    }
   },
   "types_to_exclude": [
    "module",
    "function",
    "builtin_function_or_method",
    "instance",
    "_Feature"
   ],
   "window_display": false
  }
 },
 "nbformat": 4,
 "nbformat_minor": 5
}
